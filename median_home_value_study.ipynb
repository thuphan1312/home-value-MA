{
 "cells": [
  {
   "cell_type": "code",
   "execution_count": 323,
   "id": "39580fb0",
   "metadata": {},
   "outputs": [],
   "source": [
    "import requests\n",
    "import json\n",
    "from urllib.request import Request, urlopen\n",
    "import pandas as pd\n",
    "from sklearn.model_selection import train_test_split, cross_val_score\n",
    "from sklearn import metrics\n",
    "from sklearn.neighbors import KNeighborsClassifier\n",
    "import pingouin as pg\n",
    "#Suppress warnings\n",
    "import warnings\n",
    "warnings.filterwarnings(\"ignore\")"
   ]
  },
  {
   "cell_type": "code",
   "execution_count": null,
   "id": "e001eef5",
   "metadata": {
    "scrolled": false
   },
   "outputs": [],
   "source": [
    "#Load Census Data by Zipcode\n",
    "\n",
    "#Get the url for ASC 5-year in 2019\n",
    "api_key = 'd146f6b6c0c401d2455e10e7496a50cfb9144ff4'\n",
    "massachusetts_code = '25' #code in census\n",
    "#replace specific variable and zipcode with {} to fill in later\n",
    "url = \"https://api.census.gov/data/2019/acs/acs5?key={}&get=NAME,{}&for=zip%20code%20tabulation%20area:*&in=state:{}\"\n",
    "\n",
    "#Get median income, variable: B06011_001E\n",
    "median_income_variable = 'B06011_001E'\n",
    "median_income_response = requests.get(url.format(api_key,median_income_variable,massachusetts_code))\n",
    "median_income_json = json.loads(median_income_response.text)\n",
    "median_income = {}\n",
    "for i in median_income_json:\n",
    "    median_income[i[-1]] = i[1]\n",
    "\n",
    "#Get median home value, variable: B25077_001E\n",
    "median_value_variable = 'B25077_001E'\n",
    "median_value_response = requests.get(url.format(api_key,median_value_variable,massachusetts_code))\n",
    "median_value_json = json.loads(median_value_response.text)\n",
    "median_value = {}\n",
    "for i in median_value_json:\n",
    "    median_value[i[-1]] = i[1]"
   ]
  },
  {
   "cell_type": "code",
   "execution_count": null,
   "id": "8578fa9d",
   "metadata": {
    "scrolled": false
   },
   "outputs": [],
   "source": [
    "#create DataFrame\n",
    "df = pd.DataFrame({'median_value':pd.Series(median_value), 'median_income':pd.Series(median_income)})\n",
    "#remove the value -666666666 which indicates no value for such zipcode\n",
    "df = df[df['median_value'] != '-666666666']\n",
    "df = df[df['median_income'] != '-666666666']\n",
    "#remove the first row with old column name\n",
    "df = df[1:]"
   ]
  },
  {
   "cell_type": "code",
   "execution_count": null,
   "id": "a18ec0d0",
   "metadata": {},
   "outputs": [],
   "source": [
    "#Get zipcode to search for colleges\n",
    "zipcode_list = list(df.index.values)"
   ]
  },
  {
   "cell_type": "code",
   "execution_count": null,
   "id": "a0eff844",
   "metadata": {},
   "outputs": [],
   "source": [
    "#Load average college size by zipcode from College Scorecard\n",
    "\n",
    "#set up api key\n",
    "new_college_api_key = 'sOvF1OBVPgno951MkFexY4r8e5cq4FwVp8sGD3HE'\n",
    "college_size = {}\n",
    "\n",
    "#replace zipcode and api key with {} to fill in later\n",
    "url = 'https://api.data.gov/ed/collegescorecard/v1/schools.json?_zip={}&distance=3&_fields=school.zip,id,school.name,2019.student.size&api_key={}'\n",
    "\n",
    "#iterate through list of zipcode\n",
    "for zipcode in zipcode_list:\n",
    "    #Get the JSON\n",
    "    college_response = requests.get(url.format(zipcode, new_college_api_key))\n",
    "    college_json = json.loads(college_response.text)\n",
    "    college_sizes = []\n",
    "    #when the zipcode is not supported by college scorecard\n",
    "    if 'errors' in college_json.keys():\n",
    "        college_size[zipcode] = 0\n",
    "        continue\n",
    "    #when the zipcode is supported, iterate through results of api call\n",
    "    for college in college_json['results']:\n",
    "        if college['2019.student.size'] != None:\n",
    "            college_sizes.append(college['2019.student.size'])\n",
    "    \n",
    "    #add to dictionary\n",
    "    if len(college_sizes) > 0:\n",
    "        college_size[zipcode] = sum(college_sizes) / len(college_sizes)\n",
    "    else:\n",
    "        college_size[zipcode] = 0"
   ]
  },
  {
   "cell_type": "code",
   "execution_count": null,
   "id": "3e27accb",
   "metadata": {},
   "outputs": [],
   "source": [
    "#Add the new college size column into df\n",
    "df['college_size'] = pd.Series(college_size, index = df.index)\n",
    "#Remove all columns value 0.0\n",
    "df = df[df['college_size'] != 0.0]"
   ]
  },
  {
   "cell_type": "code",
   "execution_count": 321,
   "id": "ce61622b",
   "metadata": {},
   "outputs": [
    {
     "name": "stdout",
     "output_type": "stream",
     "text": [
      "Scores: [0.92307692 0.71794872 0.76315789 0.78947368 0.78947368]\n",
      "Accuracy: 0.8205128205128205\n",
      "Confusion Matrix: [[14  5]\n",
      " [ 2 18]]\n",
      "F_score: 0.7999999999999999\n"
     ]
    }
   ],
   "source": [
    "#perform predictive modelling using both median_income and college_size\n",
    "#copy the df\n",
    "df_predictive = df.copy()\n",
    "\n",
    "#creating the categorical variable\n",
    "#calculating average value\n",
    "average_value = pd.to_numeric(df_predictive['median_value']).sum() / len(df_predictive['median_value'])\n",
    "#assigning categorical variable\n",
    "func = lambda x: 'High' if int(x) > average_value else 'Low'\n",
    "df_predictive['class_label'] = df_predictive['median_value'].apply(func, convert_dtype = True)\n",
    "\n",
    "#set x and y\n",
    "x = df_predictive[['median_income', 'college_size']]\n",
    "y = df_predictive['class_label']\n",
    "#split into train and test sets\n",
    "x_train, x_test, y_train, y_test = train_test_split(x,y, test_size = 0.2)\n",
    "\n",
    "\n",
    "#Using KNN classifier with 4 neighbors\n",
    "neigh = KNeighborsClassifier(n_neighbors=4)\n",
    "y_pred = neigh.fit(x_train, y_train).predict(x_test)\n",
    "\n",
    "#Do 5 fold cross validation\n",
    "scores = cross_val_score(neigh.fit(x_train, y_train), x, y, cv = 5)\n",
    "\n",
    "#Get accuracy score and confusion matrix\n",
    "acc = metrics.accuracy_score(y_test, y_pred)\n",
    "conf_matrix = metrics.confusion_matrix(y_test, y_pred)\n",
    "f_scores = metrics.f1_score(y_test, y_pred, pos_label='High')\n",
    "\n",
    "#Print the accuracy metrics\n",
    "print('Scores:', scores)\n",
    "print(\"Accuracy:\", acc)\n",
    "print(\"Confusion Matrix:\", conf_matrix)\n",
    "print('F_score:', f_scores)"
   ]
  },
  {
   "cell_type": "markdown",
   "id": "64c878c9",
   "metadata": {},
   "source": [
    "I built a predictive model using median income and college size as predictors. I first created a categorical variable for home values, with home values above average value considered 'High', and others 'Low'. I used KNN nearest neighbors model type because it has consistently been the most accurate model type I have used. I tested out the model with 5 neighbors and 3 neighbors before settling with 4 neighbors which return the highest accuracy metrics.\n",
    "\n",
    "The model performs well but not as well as I have hoped. Overall, it has the accuracy score of 82%, with the best out of 5-fold valuations being 92% accurate. The confusion matrix also shows an accuracy of 82%. Finally, I was a bit worried about the low accuracy score so I decided to use F-score, which examines the statistical significance of the model I chose. It results in an F-score of 0.8 when used to predict 'High' home value. The closer the F-score is to 1, the better. Therefore, I can conclude that this model is statistically significance and has averagely good accuracy."
   ]
  },
  {
   "cell_type": "code",
   "execution_count": 331,
   "id": "33552c9e",
   "metadata": {},
   "outputs": [
    {
     "data": {
      "text/html": [
       "<div>\n",
       "<style scoped>\n",
       "    .dataframe tbody tr th:only-of-type {\n",
       "        vertical-align: middle;\n",
       "    }\n",
       "\n",
       "    .dataframe tbody tr th {\n",
       "        vertical-align: top;\n",
       "    }\n",
       "\n",
       "    .dataframe thead th {\n",
       "        text-align: right;\n",
       "    }\n",
       "</style>\n",
       "<table border=\"1\" class=\"dataframe\">\n",
       "  <thead>\n",
       "    <tr style=\"text-align: right;\">\n",
       "      <th></th>\n",
       "      <th>X</th>\n",
       "      <th>Y</th>\n",
       "      <th>method</th>\n",
       "      <th>alternative</th>\n",
       "      <th>n</th>\n",
       "      <th>r</th>\n",
       "      <th>CI95%</th>\n",
       "      <th>p-unc</th>\n",
       "      <th>BF10</th>\n",
       "      <th>power</th>\n",
       "    </tr>\n",
       "  </thead>\n",
       "  <tbody>\n",
       "    <tr>\n",
       "      <th>0</th>\n",
       "      <td>median_value</td>\n",
       "      <td>median_income</td>\n",
       "      <td>pearson</td>\n",
       "      <td>two-sided</td>\n",
       "      <td>192</td>\n",
       "      <td>0.712120</td>\n",
       "      <td>[0.63, 0.78]</td>\n",
       "      <td>5.224763e-31</td>\n",
       "      <td>6.965e+27</td>\n",
       "      <td>1.000000</td>\n",
       "    </tr>\n",
       "    <tr>\n",
       "      <th>1</th>\n",
       "      <td>median_value</td>\n",
       "      <td>college_size</td>\n",
       "      <td>pearson</td>\n",
       "      <td>two-sided</td>\n",
       "      <td>192</td>\n",
       "      <td>0.147672</td>\n",
       "      <td>[0.01, 0.28]</td>\n",
       "      <td>4.094719e-02</td>\n",
       "      <td>0.718</td>\n",
       "      <td>0.535786</td>\n",
       "    </tr>\n",
       "  </tbody>\n",
       "</table>\n",
       "</div>"
      ],
      "text/plain": [
       "              X              Y   method alternative    n         r  \\\n",
       "0  median_value  median_income  pearson   two-sided  192  0.712120   \n",
       "1  median_value   college_size  pearson   two-sided  192  0.147672   \n",
       "\n",
       "          CI95%         p-unc       BF10     power  \n",
       "0  [0.63, 0.78]  5.224763e-31  6.965e+27  1.000000  \n",
       "1  [0.01, 0.28]  4.094719e-02      0.718  0.535786  "
      ]
     },
     "execution_count": 331,
     "metadata": {},
     "output_type": "execute_result"
    }
   ],
   "source": [
    "#Perform statistical association analysis: pairwise_corr\n",
    "#copy df\n",
    "df_pairwise = df.copy()\n",
    "#change all columns into numeric\n",
    "df_pairwise = df_pairwise.astype(int)\n",
    "#do the pairwise correlation\n",
    "pg.pairwise_corr(df_pairwise, columns = ['median_value'])"
   ]
  },
  {
   "cell_type": "markdown",
   "id": "392c6ac9",
   "metadata": {},
   "source": [
    "The p-values (p-unc), which are extremely small, shows that both median income and college size are statistically significance in correlation with median home value. Moreover, we can be 95% confidence that the correlation between median value and median income is between 63% to 78%. However, we can be 95% confidence that the correlation between median value and college size is between 1% and 28%. This is a really wide gap which may indicate that we might not be so sure about the effects of college size on median home value. There is needs for a larger sample size to determine this effects. To further analyze the effects of the predictors, I want to use a linear regression."
   ]
  },
  {
   "cell_type": "code",
   "execution_count": 342,
   "id": "74378298",
   "metadata": {},
   "outputs": [
    {
     "data": {
      "text/html": [
       "<div>\n",
       "<style scoped>\n",
       "    .dataframe tbody tr th:only-of-type {\n",
       "        vertical-align: middle;\n",
       "    }\n",
       "\n",
       "    .dataframe tbody tr th {\n",
       "        vertical-align: top;\n",
       "    }\n",
       "\n",
       "    .dataframe thead th {\n",
       "        text-align: right;\n",
       "    }\n",
       "</style>\n",
       "<table border=\"1\" class=\"dataframe\">\n",
       "  <thead>\n",
       "    <tr style=\"text-align: right;\">\n",
       "      <th></th>\n",
       "      <th>names</th>\n",
       "      <th>coef</th>\n",
       "      <th>se</th>\n",
       "      <th>T</th>\n",
       "      <th>pval</th>\n",
       "      <th>r2</th>\n",
       "      <th>adj_r2</th>\n",
       "      <th>CI[2.5%]</th>\n",
       "      <th>CI[97.5%]</th>\n",
       "    </tr>\n",
       "  </thead>\n",
       "  <tbody>\n",
       "    <tr>\n",
       "      <th>0</th>\n",
       "      <td>Intercept</td>\n",
       "      <td>-73077.839135</td>\n",
       "      <td>39631.409732</td>\n",
       "      <td>-1.843937</td>\n",
       "      <td>6.675779e-02</td>\n",
       "      <td>0.537684</td>\n",
       "      <td>0.532792</td>\n",
       "      <td>-151254.562950</td>\n",
       "      <td>5098.884680</td>\n",
       "    </tr>\n",
       "    <tr>\n",
       "      <th>1</th>\n",
       "      <td>median_income</td>\n",
       "      <td>11.722057</td>\n",
       "      <td>0.807177</td>\n",
       "      <td>14.522284</td>\n",
       "      <td>1.385565e-32</td>\n",
       "      <td>0.537684</td>\n",
       "      <td>0.532792</td>\n",
       "      <td>10.129823</td>\n",
       "      <td>13.314290</td>\n",
       "    </tr>\n",
       "    <tr>\n",
       "      <th>2</th>\n",
       "      <td>college_size</td>\n",
       "      <td>25.314087</td>\n",
       "      <td>7.160762</td>\n",
       "      <td>3.535111</td>\n",
       "      <td>5.125619e-04</td>\n",
       "      <td>0.537684</td>\n",
       "      <td>0.532792</td>\n",
       "      <td>11.188803</td>\n",
       "      <td>39.439371</td>\n",
       "    </tr>\n",
       "  </tbody>\n",
       "</table>\n",
       "</div>"
      ],
      "text/plain": [
       "           names          coef            se          T          pval  \\\n",
       "0      Intercept -73077.839135  39631.409732  -1.843937  6.675779e-02   \n",
       "1  median_income     11.722057      0.807177  14.522284  1.385565e-32   \n",
       "2   college_size     25.314087      7.160762   3.535111  5.125619e-04   \n",
       "\n",
       "         r2    adj_r2       CI[2.5%]    CI[97.5%]  \n",
       "0  0.537684  0.532792 -151254.562950  5098.884680  \n",
       "1  0.537684  0.532792      10.129823    13.314290  \n",
       "2  0.537684  0.532792      11.188803    39.439371  "
      ]
     },
     "execution_count": 342,
     "metadata": {},
     "output_type": "execute_result"
    }
   ],
   "source": [
    "#Perform statistical association analysis: linear_regression\n",
    "#copy df\n",
    "df_linear = df.copy()\n",
    "#change all columns into numeric\n",
    "df_linear = df_linear.astype(int)\n",
    "#do the linear regression correlation\n",
    "pg.linear_regression(df_linear[['median_income', 'college_size']], df_linear['median_value'])"
   ]
  },
  {
   "cell_type": "markdown",
   "id": "e88f4dcc",
   "metadata": {},
   "source": [
    "The linear regression analysis' p-values are as expected to be very low, indicating that the predictors are statistically significance. Moreover, we can see the particular effects of each predictor on median value. With every 1 unit increase in median income, the home value for the same area is increased by 11 units. Similarly, with every 1 unit increase in college size, the home value for the same area is increased by 25 units."
   ]
  },
  {
   "cell_type": "code",
   "execution_count": null,
   "id": "25dff746",
   "metadata": {},
   "outputs": [],
   "source": []
  }
 ],
 "metadata": {
  "kernelspec": {
   "display_name": "Python 3 (ipykernel)",
   "language": "python",
   "name": "python3"
  },
  "language_info": {
   "codemirror_mode": {
    "name": "ipython",
    "version": 3
   },
   "file_extension": ".py",
   "mimetype": "text/x-python",
   "name": "python",
   "nbconvert_exporter": "python",
   "pygments_lexer": "ipython3",
   "version": "3.9.13"
  }
 },
 "nbformat": 4,
 "nbformat_minor": 5
}
